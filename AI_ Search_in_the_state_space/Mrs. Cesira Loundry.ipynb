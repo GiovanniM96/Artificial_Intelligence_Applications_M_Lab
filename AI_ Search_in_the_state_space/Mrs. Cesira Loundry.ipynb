{
 "cells": [
  {
   "cell_type": "markdown",
   "id": "df5ee93d",
   "metadata": {},
   "source": [
    "> This exercise is courtesy of Prof. Lombardi\n",
    "\n",
    "Mrs. Cesira manages a loundry in a small village. She has been able to survive to the economic crisys of the last years thanks to an optimal management of her activity.  \n",
    "Cesira has only **two washing machines** and a electricity bill whose contract implies **a maximum power consumption of 3kW**.  \n",
    "Cesira discovered that each washing cycle is composed by **two consecutive steps** with **different duration** and **different power consumption that are known**.  \n",
    "On a given day Cesira analyses the load she has to wash and **she wants to complete the whole load in only 2 hours**.\n",
    "\n",
    "|     | Washing mach. req. | Step 1 | Step 2 |\n",
    "| --- | ------------------ | ------ | ------ |\n",
    "|Load 1 |1 full washing machine | 1.4 kw, 20 min | 1.0 kw, 20 min|\n",
    "|Load 2 |1 full washing machine |  1.6 kw, 20 min | 0.8 kw, 40 min |\n",
    "|Load 3 |1 full washing machine | 1.6 kw, 20 min | 0.8 kw, 40 min |\n",
    "|Load 4 |1 full washing machine | 2 kw, 20 min | 1 kw, 40 min|\n",
    "\n",
    "Model the problem as a constraint satisfaction problem and find a solution if any."
   ]
  },
  {
   "cell_type": "code",
   "execution_count": 1,
   "id": "e57c9388",
   "metadata": {},
   "outputs": [],
   "source": [
    "# The model\n",
    "\n",
    "from ortools.sat.python import cp_model\n",
    "\n",
    "model = cp_model.CpModel()\n",
    "\n",
    "# a variable s_{ij} for each load i for each step j\n",
    "\n",
    "# Load 1\n",
    "s11 = model.NewIntVar(0, 120, 's11')\n",
    "s12 = model.NewIntVar(0, 120, 's12')\n",
    "\n",
    "# Load 2\n",
    "s21 = model.NewIntVar(0, 120, 's21')\n",
    "s22 = model.NewIntVar(0, 120, 's22')\n",
    "\n",
    "# Load 3\n",
    "s31 = model.NewIntVar(0, 120, 's31')\n",
    "s32 = model.NewIntVar(0, 120, 's32')\n",
    "\n",
    "# Load 4\n",
    "s41 = model.NewIntVar(0, 120, 's41')\n",
    "s42 = model.NewIntVar(0, 120, 's42')"
   ]
  },
  {
   "cell_type": "code",
   "execution_count": 2,
   "id": "08e7b81d",
   "metadata": {},
   "outputs": [
    {
     "data": {
      "text/plain": [
       "<ortools.sat.python.cp_model.Constraint at 0x7fa9082c5ac0>"
      ]
     },
     "execution_count": 2,
     "metadata": {},
     "output_type": "execute_result"
    }
   ],
   "source": [
    "# duration constraints\n",
    "model.Add(s11+20<=120)\n",
    "model.Add(s12+20<=120)\n",
    "model.Add(s21+20<=120)\n",
    "model.Add(s22+40<=120)\n",
    "model.Add(s31+20<=120)\n",
    "model.Add(s32+40<=120)\n",
    "model.Add(s41+20<=120)\n",
    "model.Add(s42+40<=120)\n",
    "\n",
    "# precedence constraints on the steps of each load\n",
    "model.Add(s11+20 == s12)\n",
    "model.Add(s21+20 == s22)\n",
    "model.Add(s31+20 == s32)\n",
    "model.Add(s41+20 == s42)"
   ]
  },
  {
   "cell_type": "code",
   "execution_count": 3,
   "id": "583237a9",
   "metadata": {},
   "outputs": [
    {
     "data": {
      "text/plain": [
       "<ortools.sat.python.cp_model.Constraint at 0x7fa9082bfc10>"
      ]
     },
     "execution_count": 3,
     "metadata": {},
     "output_type": "execute_result"
    }
   ],
   "source": [
    "# constraints about the use of machines... two of them, does not matter which one\n",
    "t11 = model.NewIntervalVar(s11, 20, s11+20, 't11')\n",
    "t12 = model.NewIntervalVar(s12, 20, s12+20, 't12')\n",
    "t21 = model.NewIntervalVar(s21, 20, s21+20, 't21')\n",
    "t22 = model.NewIntervalVar(s22, 40, s22+40, 't22')\n",
    "t31 = model.NewIntervalVar(s31, 20, s31+20, 't31')\n",
    "t32 = model.NewIntervalVar(s32, 40, s32+40, 't32')\n",
    "t41 = model.NewIntervalVar(s41, 20, s41+20, 't41')\n",
    "t42 = model.NewIntervalVar(s42, 40, s42+40, 't42')\n",
    "\n",
    "model.AddCumulative(\n",
    "    [t11, t12, t21, t22, t31, t32, t41, t42],\n",
    "    [1,   1,   1,   1,   1,   1,   1,   1],\n",
    "    2)"
   ]
  },
  {
   "cell_type": "code",
   "execution_count": 4,
   "id": "40a7d83e",
   "metadata": {},
   "outputs": [
    {
     "data": {
      "text/plain": [
       "<ortools.sat.python.cp_model.Constraint at 0x7fa9081d1190>"
      ]
     },
     "execution_count": 4,
     "metadata": {},
     "output_type": "execute_result"
    }
   ],
   "source": [
    "# constraint about the power consumption\n",
    "model.AddCumulative(\n",
    "    [t11, t12, t21, t22, t31, t32, t41, t42],\n",
    "    [14,  10,  16,  8,   16,  8,   20,  10],\n",
    "    30)"
   ]
  },
  {
   "cell_type": "code",
   "execution_count": 5,
   "id": "60984f64",
   "metadata": {},
   "outputs": [
    {
     "name": "stdout",
     "output_type": "stream",
     "text": [
      "s11 = 0\n",
      "s12 = 20\n",
      "s21 = 0\n",
      "s22 = 20\n",
      "s31 = 40\n",
      "s32 = 60\n",
      "s41 = 60\n",
      "s42 = 80\n"
     ]
    }
   ],
   "source": [
    "# Compute a solution\n",
    "\n",
    "solver = cp_model.CpSolver()\n",
    "status = solver.Solve(model)\n",
    "\n",
    "if status == cp_model.OPTIMAL or status == cp_model.FEASIBLE:\n",
    "    print('s11 = %i' % solver.Value(s11))\n",
    "    print('s12 = %i' % solver.Value(s12))\n",
    "    print('s21 = %i' % solver.Value(s21))\n",
    "    print('s22 = %i' % solver.Value(s22))\n",
    "    print('s31 = %i' % solver.Value(s31))\n",
    "    print('s32 = %i' % solver.Value(s32))\n",
    "    print('s41 = %i' % solver.Value(s41))\n",
    "    print('s42 = %i' % solver.Value(s42))"
   ]
  },
  {
   "cell_type": "code",
   "execution_count": 13,
   "id": "f65cc177",
   "metadata": {},
   "outputs": [
    {
     "name": "stdout",
     "output_type": "stream",
     "text": [
      "s11 = 0 , wm = 0\n",
      "s12 = 20 , wm = 0\n",
      "s21 = 0 , wm = 1\n",
      "s22 = 20 , wm = 1\n",
      "s31 = 40 , wm = 0\n",
      "s32 = 60 , wm = 0\n",
      "s41 = 60 , wm = 1\n",
      "s42 = 80 , wm = 1\n"
     ]
    }
   ],
   "source": [
    "# The progam as a whole, written in a more Python-like style\n",
    "\n",
    "# problem data\n",
    "durations = [[20,20],[20,40],[20,40],[20,40]]\n",
    "resource_washing_machine = [[1,1],[1,1],[1,1],[1,1]]\n",
    "resource_power = [[14,10],[16,8],[16,8],[20,10]]\n",
    "limit = 120\n",
    "start = 0\n",
    "number_of_washing_machines = 2\n",
    "max_power = 30\n",
    "\n",
    "\n",
    "\n",
    "\n",
    "model = cp_model.CpModel()\n",
    "\n",
    "# create the start variables\n",
    "start_variables = []\n",
    "for i in range(0,4):\n",
    "    for j in range(0,2):\n",
    "        start_variables.append(model.NewIntVar(0, limit, 's%i%i' % (i+1, j+1)))\n",
    "        \n",
    "# create the interval variables\n",
    "interval_variables = []\n",
    "for i in range(0,4):\n",
    "    for j in range(0,2):\n",
    "        interval_variables.append(model.NewIntervalVar(\n",
    "            start_variables[i*2+j],\n",
    "            durations[i][j],\n",
    "            start_variables[i*2+j]+durations[i][j],\n",
    "            't%i%i' % (i+1, j+1)\n",
    "        ))\n",
    "\n",
    "# termination constraints\n",
    "for i in range(0,4):\n",
    "    for j in range(0,2):\n",
    "        model.Add(start_variables[i*2+j]+durations[i][j]<=limit)\n",
    "\n",
    "# precedence constraints on the steps of each load\n",
    "for i in range(0,4):\n",
    "        model.Add(start_variables[i*2]+durations[i][0] == start_variables[i*2+1])\n",
    "\n",
    "# constraint about the resource of washing machines\n",
    "model.AddCumulative(\n",
    "    interval_variables,\n",
    "    [req for load in resource_washing_machine for req in load],\n",
    "    number_of_washing_machines)\n",
    "\n",
    "# constraint about the power consumption\n",
    "model.AddCumulative(\n",
    "    interval_variables,\n",
    "    [req for load in resource_power for req in load],\n",
    "    max_power)\n",
    "\n",
    "#-----------------------------------------------------------------------\n",
    "# add a further constraint: once a load has been assigned to a washing machine,\n",
    "# both the loads should be done on that machine... Cesira doesn't want to swap the loads\n",
    "# create the washing machine variables\n",
    "#\n",
    "# The following solution adopt a technique named reification\n",
    "\n",
    "wm_variables = []\n",
    "for i in range(0,4):\n",
    "    for j in range(0,2):\n",
    "        wm_variables.append(model.NewIntVar(0, 1, 'wm%i%i' % (i+1, j+1)))\n",
    "\n",
    "# impose same machine for steps of the same load\n",
    "for i in range(0, len(wm_variables)-1, 2):\n",
    "    model.Add(wm_variables[i]==wm_variables[i+1])\n",
    "        \n",
    "# create the boolean vars\n",
    "wmb_variables = []\n",
    "for i in range(0,len(wm_variables)):\n",
    "    wmb_sub = []\n",
    "    for j in range(0,i):\n",
    "        wmb_sub.append(model.NewBoolVar('wmb%i_%i' % (i+1, j+1)))\n",
    "    wmb_variables.append(wmb_sub)\n",
    "\n",
    "# impose the reification\n",
    "for i in range(0,len(wm_variables)):\n",
    "    for j in range(0,i):\n",
    "        model.Add(wm_variables[i]==wm_variables[j]).OnlyEnforceIf(wmb_variables[i][j])\n",
    "for i in range(0,len(wm_variables)):\n",
    "    for j in range(0,i):\n",
    "        model.Add(wm_variables[i]!=wm_variables[j]).OnlyEnforceIf(wmb_variables[i][j].Not())\n",
    "\n",
    "\n",
    "# impose the constraint of no-overlap\n",
    "for i in range(0, len(wm_variables)):\n",
    "    for j in range(0,i):\n",
    "        model.Add(start_variables[j]+durations[j//2][j%2]<=start_variables[i]).OnlyEnforceIf(wmb_variables[i][j])\n",
    "\n",
    "'''\n",
    "# UNFORTUNATELY... OR-Tools DOES NOT SUPPORT reification over NoOverlap constraints\n",
    "for i in range(0, len(wm_variables)):\n",
    "    for j in range(0,i):\n",
    "        model.AddNoOverlap([interval_variables[i], interval_variables[j]]).OnlyEnforceIf(wmb_variables[i][j])\n",
    "\n",
    "'''\n",
    "#---------------------------------------------------\n",
    "\n",
    "solver = cp_model.CpSolver()\n",
    "status = solver.Solve(model)\n",
    "if status == cp_model.OPTIMAL or status == cp_model.FEASIBLE:\n",
    "    for i in range(0,len(start_variables)):\n",
    "        print('%s = %i' % (start_variables[i], solver.Value(start_variables[i])), end=' ')\n",
    "        print(', wm = %i' % solver.Value(wm_variables[i]))       \n",
    "elif status==cp_model.INFEASIBLE:\n",
    "    print('INFEASIBLE')\n",
    "elif status== cp_model.MODEL_INVALID:\n",
    "    print('MODEL INVALID')\n",
    "else:\n",
    "    print('UNKONWN')"
   ]
  },
  {
   "cell_type": "code",
   "execution_count": null,
   "id": "b432a62a",
   "metadata": {},
   "outputs": [],
   "source": []
  },
  {
   "cell_type": "code",
   "execution_count": null,
   "id": "8f0300f3",
   "metadata": {},
   "outputs": [],
   "source": []
  }
 ],
 "metadata": {
  "kernelspec": {
   "display_name": "Python 3 (ipykernel)",
   "language": "python",
   "name": "python3"
  },
  "language_info": {
   "codemirror_mode": {
    "name": "ipython",
    "version": 3
   },
   "file_extension": ".py",
   "mimetype": "text/x-python",
   "name": "python",
   "nbconvert_exporter": "python",
   "pygments_lexer": "ipython3",
   "version": "3.9.7"
  }
 },
 "nbformat": 4,
 "nbformat_minor": 5
}
