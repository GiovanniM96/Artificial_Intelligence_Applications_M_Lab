{
 "cells": [
  {
   "cell_type": "markdown",
   "id": "9da06751",
   "metadata": {},
   "source": [
    "# Constraint Reification -- an example\n",
    "\n",
    "Cesira is a nice elder living in Romagna. Her nephew Carlo studies at the University, and every time Carlo achieves a high grade in some exam, Cesira is proud and makes a present of 50€ to Carlo.\n",
    "\n",
    "Let's say that Carlo achieves a mark `v`, the gain `g` of Carlo is defined as:\n",
    "- if `v>=28`, then `g==50`\n",
    "- if `v<28`, then `g==0`\n",
    "\n",
    "We can also switch viewpoint, and observe that:\n",
    "- if Carlo has a gain `g==50`, then he has achieved a mark `v>=28`\n",
    "- if Carlo has a gain `g==0`, then he has achieves a mark `v<28`\n",
    "\n",
    "We can take one viewpoint or the other, but in both cases there is a variable whose constraints depend on the fact that another constraint is currently satisfied or not. E.g., the constraint `g==50` should be enforced only if the constraint `v>=28` is true.\n",
    "\n",
    "How to model such situation?"
   ]
  },
  {
   "cell_type": "markdown",
   "id": "ffd946ed",
   "metadata": {},
   "source": [
    "## Reification\n",
    "\n",
    "The solution stnads in introducing a third variable, that captures the state True/False of one constraint or the other. Through such vraible, it will be possible to specify that the constraint shoud be forced or not.\n",
    "\n",
    "We would like to rewrite the cases above in the following way:  \n",
    "`b == (v>=28)`  \n",
    "where the intended meaning would be that `b` is `True` if and only if the constraint `(v>=28)` (double implication).  \n",
    "Then we would like to express also that:  \n",
    "`b == (g==50)`  \n",
    "where the intended meaning is that the constraint about `g` is enforced if `b` is `True`, and viceversa."
   ]
  },
  {
   "cell_type": "code",
   "execution_count": 1,
   "id": "159ae68c",
   "metadata": {},
   "outputs": [],
   "source": [
    "from ortools.sat.python import cp_model\n",
    "\n",
    "class VarArraySolutionPrinter(cp_model.CpSolverSolutionCallback):\n",
    "    \"\"\"Print intermediate solutions.\"\"\"\n",
    "\n",
    "    def __init__(self, variables):\n",
    "        cp_model.CpSolverSolutionCallback.__init__(self)\n",
    "        self.__variables = variables\n",
    "        self.__solution_count = 0\n",
    "\n",
    "    def on_solution_callback(self):\n",
    "        self.__solution_count += 1\n",
    "        for v in self.__variables:\n",
    "            print('%s=%i' % (v, self.Value(v)), end=' ')\n",
    "        print()\n",
    "\n",
    "    def solution_count(self):\n",
    "        return self.__solution_count"
   ]
  },
  {
   "cell_type": "code",
   "execution_count": 2,
   "id": "17a2f348",
   "metadata": {},
   "outputs": [
    {
     "name": "stdout",
     "output_type": "stream",
     "text": [
      "v=18 g=0 \n",
      "v=18 g=50 \n",
      "v=19 g=50 \n",
      "v=20 g=50 \n",
      "v=21 g=50 \n",
      "v=22 g=50 \n",
      "v=23 g=50 \n",
      "v=24 g=50 \n",
      "v=25 g=50 \n",
      "v=26 g=50 \n",
      "v=27 g=50 \n",
      "v=28 g=50 \n",
      "v=29 g=50 \n",
      "v=30 g=50 \n",
      "v=30 g=0 \n",
      "v=29 g=0 \n",
      "v=28 g=0 \n",
      "v=27 g=0 \n",
      "v=26 g=0 \n",
      "v=25 g=0 \n",
      "v=24 g=0 \n",
      "v=23 g=0 \n",
      "v=22 g=0 \n",
      "v=21 g=0 \n",
      "v=20 g=0 \n",
      "v=19 g=0 \n",
      "Solutions found: 26\n"
     ]
    }
   ],
   "source": [
    "from ortools.sat.python import cp_model\n",
    "\n",
    "model = cp_model.CpModel()\n",
    "\n",
    "# The two initial variables\n",
    "v = model.NewIntVar(18,30, 'v')\n",
    "g = model.NewIntVarFromDomain(cp_model.Domain.FromIntervals([[0],[50]]), 'g')\n",
    "\n",
    "\n",
    "\n",
    "# Compute the solution\n",
    "solver = cp_model.CpSolver()\n",
    "solution_printer = VarArraySolutionPrinter([v,g])\n",
    "\n",
    "solver.parameters.enumerate_all_solutions = True\n",
    "status = solver.Solve(model, solution_printer)\n",
    "print('Solutions found:', solution_printer.solution_count())"
   ]
  },
  {
   "cell_type": "markdown",
   "id": "efd8ec3e",
   "metadata": {},
   "source": [
    "If you compute the solution above, you will see that a link is missing: the `g` is not related at all with the characteristics of the values of `v`, and viceversa.\n",
    "\n",
    "To overcome this problem, in the next cell we will introduce a reification variable, and create the link betwween the two."
   ]
  },
  {
   "cell_type": "code",
   "execution_count": 3,
   "id": "9793bee1",
   "metadata": {},
   "outputs": [
    {
     "name": "stdout",
     "output_type": "stream",
     "text": [
      "v=18 g=0 \n",
      "v=19 g=0 \n",
      "v=20 g=0 \n",
      "v=21 g=0 \n",
      "v=22 g=0 \n",
      "v=23 g=0 \n",
      "v=24 g=0 \n",
      "v=25 g=0 \n",
      "v=26 g=0 \n",
      "v=27 g=0 \n",
      "v=28 g=50 \n",
      "v=29 g=50 \n",
      "v=30 g=50 \n",
      "Solutions found: 13\n"
     ]
    }
   ],
   "source": [
    "from ortools.sat.python import cp_model\n",
    "\n",
    "model = cp_model.CpModel()\n",
    "\n",
    "# The two initial variables\n",
    "v = model.NewIntVar(18,30, 'v')\n",
    "g = model.NewIntVarFromDomain(cp_model.Domain.FromIntervals([[0],[50]]), 'g')\n",
    "\n",
    "# A boolean variable b\n",
    "b = model.NewBoolVar('b')\n",
    "\n",
    "# The reification link\n",
    "model.Add(v>=28).OnlyEnforceIf(b)\n",
    "model.Add(v<28).OnlyEnforceIf(b.Not())\n",
    "model.Add(g==50).OnlyEnforceIf(b)\n",
    "model.Add(g==0). OnlyEnforceIf(b.Not())\n",
    "\n",
    "# Compute the solution\n",
    "solver = cp_model.CpSolver()\n",
    "solution_printer = VarArraySolutionPrinter([v,g])\n",
    "\n",
    "solver.parameters.enumerate_all_solutions = True\n",
    "status = solver.Solve(model, solution_printer)\n",
    "print('Solutions found:', solution_printer.solution_count())"
   ]
  },
  {
   "cell_type": "code",
   "execution_count": null,
   "id": "d25aab05",
   "metadata": {},
   "outputs": [],
   "source": []
  }
 ],
 "metadata": {
  "kernelspec": {
   "display_name": "Python 3 (ipykernel)",
   "language": "python",
   "name": "python3"
  },
  "language_info": {
   "codemirror_mode": {
    "name": "ipython",
    "version": 3
   },
   "file_extension": ".py",
   "mimetype": "text/x-python",
   "name": "python",
   "nbconvert_exporter": "python",
   "pygments_lexer": "ipython3",
   "version": "3.8.0"
  }
 },
 "nbformat": 4,
 "nbformat_minor": 5
}
