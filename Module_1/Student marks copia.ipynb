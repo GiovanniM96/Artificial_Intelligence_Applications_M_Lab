{
 "cells": [
  {
   "cell_type": "markdown",
   "id": "2c237590",
   "metadata": {},
   "source": [
    "# Exercise about classes and objects\n",
    "\n",
    "\n",
    "We want to perform some analysis on the students' marks at the exams. To this end:\n",
    "1. we will model the students and their career\n",
    "2. we will generate some random data\n",
    "3. we will try to plot these data and, hopefully, we will observe things that should be expected!\n",
    "\n",
    "---"
   ]
  },
  {
   "cell_type": "markdown",
   "id": "5f771fba",
   "metadata": {},
   "source": [
    "## Ex. 1: Model the single course\n",
    "\n",
    "Create a class to model a single course, characterized by:\n",
    "1. a name,\n",
    "1. a unique idCourse (add a field with the exact name `idCourse`)\n",
    "1. a number of cfu\n",
    "\n",
    "Provide also the following methods:\n",
    "- override the method `__str__()` so that easy print will be supported\n",
    "- override the `==` operator: a course is equal to another if the idCourse is the same\n",
    "- store in a **class variable** the default set of exam names and credits that is given below\n",
    "- provide a **class method** that, given a data structure containing the info about the courses, will return a list of instances of this class.\n",
    "\n",
    "To easy the development, the following data structure is given:\n",
    "    \n",
    "    examNames = {\n",
    "        96140:('ORGANIZZAZIONE AZIENDALE M', 11),\n",
    "        33980:('SERVIZI GENERALI DI IMPIANTO M', 6),\n",
    "        96134:('AUTOMAZIONE INDUSTRIALE E SISTEMI DI LAVORAZIONE M', 12),\n",
    "        34431:('SISTEMI DI PRODUZIONE AVANZATI M', 9),\n",
    "        34439:('STRATEGIA AZIENDALE M', 12)\n",
    "    }\n"
   ]
  },
  {
   "cell_type": "code",
   "execution_count": 1,
   "id": "93951617",
   "metadata": {},
   "outputs": [],
   "source": [
    "# Enter here your solution"
   ]
  },
  {
   "cell_type": "markdown",
   "id": "8af45cec",
   "metadata": {},
   "source": [
    "## Ex. 2: Modeling the event \"an exam has been passed\"\n",
    "\n",
    "Create a class `ExamPassed` to represent the event that an exam has been passed. An `ExamPassed` will be characterized by:\n",
    "- a date (year, month, day)\n",
    "- a course (an instance of class Course)\n",
    "- the obtained mark (an integer; for simplicity, laude will not be considered)\n",
    "Instances of this class should represent the fact that on the specified date the exam has been passed with the specified mark.\n",
    "\n",
    "Provide also the following methods:\n",
    "- override the method `__str__()` so that easy print will be supported\n",
    "- override the method `__eq__()`: two passed exames are the same if they are about the same course; thus, `Course.__eq__()` should be exploited."
   ]
  },
  {
   "cell_type": "code",
   "execution_count": 2,
   "id": "21f4d00e",
   "metadata": {},
   "outputs": [],
   "source": [
    "# Enter here your solution"
   ]
  },
  {
   "cell_type": "markdown",
   "id": "541f297f",
   "metadata": {},
   "source": [
    "## Ex. 3: Modeling the student\n",
    "\n",
    "Create a class `Student` to represent a student, characterized by:\n",
    "- a name\n",
    "- a family name\n",
    "- the list of the courses she has in her career (exploit the static method in the class Course)\n",
    "- the list of already passed exams; initally, it's empty\n",
    "\n",
    "Add also the following methods:\n",
    "- override the method `__str__()` so that easy print will be supported\n",
    "- a method that allows to add a passed exam (an instance of ExamPassed); if the exam was already passed, the method should return `False` (and do nothing); otherwise, adds the passed exam to the proper list and returns `True`\n",
    "- a method that return the list of the courses not passed yet"
   ]
  },
  {
   "cell_type": "code",
   "execution_count": 3,
   "id": "319d1935",
   "metadata": {},
   "outputs": [],
   "source": [
    "# Enter here your solution"
   ]
  },
  {
   "cell_type": "markdown",
   "id": "8d0cf187",
   "metadata": {},
   "source": [
    "## Ex. 4: generate a list of students\n",
    "\n",
    "Write a function that will generate a list of instances of Student, initially all with no passed exams.\n",
    "In order to generate names that do make sense, choose randomly from the following lists:\n",
    "\n",
    "    names = ['Marco', 'Alessandro', 'Giuseppe', 'Flavio', 'Luca', 'Giovanni', 'Roberto', 'Andrea', 'Stefano', 'Angelo', 'Francesco', 'Mario', 'Luigi', 'Anna', 'Maria', 'Sara', 'Laura', 'Aurora', 'Valentina', 'Giulia', 'Rosa', 'Gianna', 'Giuseppina', 'Angela', 'Giovanna', 'Sofia', 'Stella']  \n",
    "Source <https://en.wikipedia.org/wiki/Italian_name>\n",
    "\n",
    "    surnames = ['Rossi', 'Russo', 'Ferrari', 'Esposito', 'Bianchi', 'Romano', 'Colombo', 'Ricci', 'Marino', 'Greco', 'Bruno', 'Gallo', 'Conti', 'De Luca', 'Mancini', 'Costa', 'Giordano', 'Rizzo', 'Lombardi', 'Moretti']\n",
    "Source: <https://en.wiktionary.org/wiki/Appendix:Italian_surnames>\n",
    "\n",
    "To achieve a random combination of names and family names, it is possible to use the `random.choice` function. An example of usage is the following piece of code:"
   ]
  },
  {
   "cell_type": "code",
   "execution_count": 5,
   "id": "8d18fbc8",
   "metadata": {},
   "outputs": [
    {
     "name": "stdout",
     "output_type": "stream",
     "text": [
      "Elena\n",
      "Francesco\n",
      "Chiara\n"
     ]
    }
   ],
   "source": [
    "# Example of using random.sample\n",
    "import random\n",
    "\n",
    "myList = ['Federico', 'Chiara', 'Francesco', 'Elena']\n",
    "print(random.choice(myList))\n",
    "print(random.choice(myList))\n",
    "print(random.choice(myList))"
   ]
  },
  {
   "cell_type": "markdown",
   "id": "4b4b1a2c",
   "metadata": {},
   "source": [
    "Alternatively, the `random.choices()` (available from python 3.6) can be used as well. See the documentation <https://www.w3schools.com/python/ref_random_choices.asp> about it."
   ]
  },
  {
   "cell_type": "code",
   "execution_count": 4,
   "id": "75eeb367",
   "metadata": {},
   "outputs": [],
   "source": [
    "# Enter here your solution"
   ]
  },
  {
   "cell_type": "markdown",
   "id": "c5e1e148",
   "metadata": {},
   "source": [
    "## Ex. 5: Generate random some marks\n",
    "\n",
    "Given a list of students, we would like to add some marks to each student. As a first step, we will focus on generating a number of marks. Later (next exercise) we will join the marks and the students.\n",
    "\n",
    "There are many different ways for generating random numbers, taking into account for example which distribution should the marks exhibit, etc.\n",
    "\n",
    "To this end, many solutions are available. Just to mention a couple:\n",
    "- the `numpy` library, and the `Random` generator (see <https://numpy.org/doc/stable/reference/random/generator.html>);\n",
    "- the built-in `random` library <https://www.w3schools.com/python/module_random.asp> and the function `random.choices()` <https://www.w3schools.com/python/ref_random_choices.asp>\n",
    "\n",
    "We will adopt the last approach. In the following, you will find the function `generatePseudoRandomMarks(courses, numOfStudents)`, where `courses` is a list of instances of the class Course, with a mandatory attribute name `idCourse`. The function will generate a list of lists of couples `(idCourse,mark)`. Each sublist represents the marks obtained by a student.\n",
    "\n",
    "The function is already prepared for you, don't look at it, but simply use it. Later on, once finished all the exercise, come back here and have a look on how data was generated."
   ]
  },
  {
   "cell_type": "code",
   "execution_count": 11,
   "id": "9cbcaa91",
   "metadata": {},
   "outputs": [
    {
     "name": "stdout",
     "output_type": "stream",
     "text": [
      "[[(96140, 29), (33980, 27), (96134, 25), (34431, 28), (34439, 28)], [(96140, 20), (33980, 18), (96134, 18), (34431, 18), (34439, 18)], [(96140, 26), (33980, 26), (34431, 27), (34439, 27)], [(96140, 27), (33980, 25), (96134, 24), (34431, 25), (34439, 25)], [(96140, 22), (33980, 22), (96134, 23)], [(96140, 30), (33980, 29), (96134, 27), (34431, 30), (34439, 29)], [(96140, 29), (33980, 29), (96134, 25), (34439, 28)], [(96140, 18), (33980, 19), (96134, 18), (34431, 18), (34439, 18)], [(96140, 28), (33980, 30), (96134, 27), (34431, 30), (34439, 30)], [(96140, 29), (33980, 30), (96134, 29), (34431, 30), (34439, 29)]]\n"
     ]
    }
   ],
   "source": [
    "import random\n",
    "\n",
    "def generatePseudoRandomMarks(courses, numOfStudents):\n",
    "    ''' This function returns a list of list of couples, each sublist tuple of `<= numExams` elements,\n",
    "    each element a couple `(idCourse,mark)`.\n",
    "    The length of the list is given by the variable numOfSamples.\n",
    "    courses is a list of instances of class Course with mandatory attribute idCourse'''\n",
    "    # distribution of the students in categories\n",
    "    studentsAggregatedCategory = random.choices(['a','b','c','d','e'], weights=[30, 30, 20, 10, 10], k=numOfStudents)\n",
    "    # distribution of the students to the corresponding average\n",
    "    studentsAggregatedDistribution = []\n",
    "    for c in studentsAggregatedCategory:\n",
    "        if c == 'a': averageMark = random.choice([30,29,28])\n",
    "        elif c == 'b': averageMark = random.choice([27,26,25])\n",
    "        elif c == 'c': averageMark = random.choice([24,23,22])\n",
    "        elif c == 'd': averageMark = random.choice([21,20])\n",
    "        elif c == 'e': averageMark = random.choice([19,18])\n",
    "        studentsAggregatedDistribution.append(averageMark)\n",
    "    # generation of the marks\n",
    "    result = []\n",
    "    for c in studentsAggregatedDistribution:\n",
    "        delta1 = random.choices([-2, -1, 0, 1, 2, None], weights=[1,3,6,3,1,1], k=len(courses))\n",
    "        delta2 = random.choices([-3, -2, -1, 0, 1, None], weights=[6,3,1,1,1,6], k=1)\n",
    "        temp = []\n",
    "        for i in range(0,len(courses)):\n",
    "            if i!=2:\n",
    "                d = delta1[i]\n",
    "            else:\n",
    "                d = delta2[0]\n",
    "            if d != None:\n",
    "                temp.append((courses[i].idCourse, max(min(c+d,30),18)) )\n",
    "        result.append(temp)\n",
    "    return result\n",
    "\n",
    "# tests\n",
    "print(generatePseudoRandomMarks(Course.generateCourses(), 10))"
   ]
  },
  {
   "cell_type": "markdown",
   "id": "0042f297",
   "metadata": {},
   "source": [
    "## Ex. 6: Generate the data set\n",
    "\n",
    "Write a function that, using the code at the exercise 4, and the `generatePseudoRandomMarks()` function in ex. 5, will return a list of students with all the marks."
   ]
  },
  {
   "cell_type": "code",
   "execution_count": 5,
   "id": "f52fd94e",
   "metadata": {},
   "outputs": [],
   "source": [
    "# Enter here your solution"
   ]
  },
  {
   "cell_type": "markdown",
   "id": "80b65eaf",
   "metadata": {},
   "source": [
    "## Final: try to answer the following questions\n",
    "\n",
    "1. For each course, print how many students have passed it, and how many have not passed it. Looking at the numbers, can we say that there is a course more difficult than others?\n",
    "\n",
    "2. For each course, compute the mean over the students of that course, by using the function `numpy.mean(list_of_values)` defined in the module `numpy`.\n",
    "\n",
    "3. Let us plot the occurencies/frequencies of the marks for an exam. To do so, we need to:\n",
    "    1. extract the marks for that exam (you should already be able to...)\n",
    "    \n",
    "    2. count the occurencies, using the `pandas` library (a bit overkill), and the method `value_counts()`\n",
    "            import pandas as pd\n",
    "            mylist = [\\\"a\\\", \\\"a\\\", \\\"b\\\", \\\"c\\\", \\\"c\\\", \\\"c\\\", \\\"c\\\", \\\"d\\\", \\\"d\\\"]\n",
    "            pd.Series(mylist).value_counts()\n",
    "            # output\n",
    "            c    4\n",
    "            a    2\n",
    "            d    2\n",
    "            b    1\n",
    "        The method return a dictionary, where the keys are the values, and the values are the occurencies. Once you get the count, you simply need to constructs the `X` and `Y` vectors\n",
    "    \n",
    "    3. Plot them by using the matplotlib.pyplot class from mathplotlib, and the `plot(X,Y, linewidth=2, color='r')` method (where `X` and `Y` are two lists of values.\n",
    "    "
   ]
  },
  {
   "cell_type": "code",
   "execution_count": 6,
   "id": "e4bd9a86",
   "metadata": {},
   "outputs": [],
   "source": [
    "# Enter here your solution"
   ]
  },
  {
   "cell_type": "code",
   "execution_count": null,
   "id": "c905d0cf",
   "metadata": {},
   "outputs": [],
   "source": []
  }
 ],
 "metadata": {
  "kernelspec": {
   "display_name": "Python 3 (ipykernel)",
   "language": "python",
   "name": "python3"
  },
  "language_info": {
   "codemirror_mode": {
    "name": "ipython",
    "version": 3
   },
   "file_extension": ".py",
   "mimetype": "text/x-python",
   "name": "python",
   "nbconvert_exporter": "python",
   "pygments_lexer": "ipython3",
   "version": "3.9.7"
  }
 },
 "nbformat": 4,
 "nbformat_minor": 5
}
