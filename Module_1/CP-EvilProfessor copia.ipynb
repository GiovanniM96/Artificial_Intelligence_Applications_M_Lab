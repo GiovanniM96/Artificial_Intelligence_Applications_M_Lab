{
 "cells": [
  {
   "cell_type": "markdown",
   "id": "6bc5ee83",
   "metadata": {},
   "source": [
    "# The evil Professor\n",
    "\n",
    "> This exercise is courtesy of Prof. Lombardi\n",
    "\n",
    "Prof. X has published in a single shot the dates of the exam for his course for whole year. While officially presented as a student-friendly measure (so they can better plan their activities), it is in fact all part of an *evil* plan to achieve the best results with minimum effort.\n",
    "\n",
    "In fact, Prof. X finals contain two exercises (A and B), which can be **safely recycled** between two dates. \n",
    "\n",
    "HOWEVER... this assumes that **no student attends both dates**, which is of course what John, Jerry and Jake have promptly done.\n",
    "\n",
    "By carefully examining the student lists of the 5 available exams, X notices that:\n",
    "\n",
    "- John is in the list for date 1, 3, and 5\n",
    "- Jerry is in the list for date 1 and 2\n",
    "- Jake is in the list for date 2 and 4\n",
    "\n",
    "Additionally, lest the dreaded rumor that Prof. X’s exams all look the same starts to spread, **no exercise can appear in the same position twice** (e.g. exercise 1 cannot appear twice in position A).\n",
    "\n",
    "Will X manage to prepare all finals **using only 6 exercises**? Model the problem using Constraint Programming and show a possible solution."
   ]
  },
  {
   "cell_type": "markdown",
   "id": "d7998e3f",
   "metadata": {},
   "source": [
    "# Preparation...\n",
    "\n",
    "First of all, get sure you have installed OR-Tools, a quite of Optimizaiotn research tools by Google:\n",
    "<https://developers.google.com/optimization>\n",
    "\n",
    "Simply type the command\n",
    "`pip install ortools`\n",
    "\n",
    "Just in case, see <https://developers.google.com/optimization/install> for detailed instructions.\n"
   ]
  },
  {
   "cell_type": "markdown",
   "id": "f24f8811",
   "metadata": {},
   "source": [
    "---\n",
    "\n",
    "# Solution\n",
    "\n",
    "## Getting sense of the variables...\n",
    "\n",
    "Which are the variables? and which are the values? Let us focus on our goal:\n",
    "\n",
    "> Will X manage to prepare all finals using only 6 exercises?  \n",
    "> There are 5 dates...  \n",
    "> ... each date has an exercise A and an exercise B  \n",
    "\n",
    "In other words, for each exercise A and B of each date, we have to asign on among the avialable exercises 1..6.\n",
    "\n",
    "## Variables\n",
    "\n",
    "For each date (there are five of them), will have a variable Ai and a variable Bi. In total, ten variables:\n",
    "\n",
    "`A1, B1, A2, B2, A3, B3, A4, B4, A5, B5`\n",
    "\n",
    "## Domains\n",
    "\n",
    "Each variable should be assigned one among the six available exercises... domains: `[1..6]`\n",
    "\n",
    "## Creating the model in OR-Tool\n",
    "\n",
    "The google library provides two main groups of methods:\n",
    "\n",
    "- methods for modeling the problem\n",
    "- methods for solviong the problem\n",
    "\n",
    "Let us start with modeling the problem. First of all, it is necessary to create an (initally empty) model:"
   ]
  },
  {
   "cell_type": "code",
   "execution_count": 1,
   "id": "b3ff0b92",
   "metadata": {},
   "outputs": [],
   "source": [
    "from ortools.sat.python import cp_model\n",
    "\n",
    "# the model variable will contain our model\n",
    "model = cp_model.CpModel()"
   ]
  },
  {
   "cell_type": "markdown",
   "id": "07f95ce8",
   "metadata": {},
   "source": [
    "Then we need to add the variables to our model. Several different types of variables can be added:\n",
    "- boolean variables: `NewBoolVar(self, name)`\n",
    "- integer variables: `NewIntVar(self, lb, ub, name)`\n",
    "- integer variables over domains with possible holes: `NewIntVarFromDomain(self, domain, name)`\n",
    "- intervals: `NewIntervalVar(self, start, size, end, name)`\n",
    "- optional intervals: `NewOptionalIntervalVar(self, start, size, end, is_present, name)`\n",
    "\n",
    "We have ten variables, whose domains are all 1..6 ... we shall go for the NewIntVar method. "
   ]
  },
  {
   "cell_type": "code",
   "execution_count": 2,
   "id": "609a6bd4",
   "metadata": {},
   "outputs": [],
   "source": [
    "# Adding the variables to the model\n",
    "\n",
    "var_names = ['a1', 'b1', 'a2', 'b2', 'a3', 'b3', 'a4', 'b4', 'a5', 'b5']\n",
    "# can you imagine a faster way for generating the variable names?\n",
    "\n",
    "a1 = model.NewIntVar(1, 6, 'a1')\n",
    "b1 = model.NewIntVar(1, 6, 'b1')\n",
    "a2 = model.NewIntVar(1, 6, 'a2')\n",
    "b2 = model.NewIntVar(1, 6, 'b2')\n",
    "a3 = model.NewIntVar(1, 6, 'a3')\n",
    "b3 = model.NewIntVar(1, 6, 'b3')\n",
    "a4 = model.NewIntVar(1, 6, 'a4')\n",
    "b4 = model.NewIntVar(1, 6, 'b4')\n",
    "a5 = model.NewIntVar(1, 6, 'a5')\n",
    "b5 = model.NewIntVar(1, 6, 'b5')\n",
    "\n",
    "\n",
    "# Alternatively, you could write:\n",
    "# for v in var_names:\n",
    "#    model.NewIntVar(1, 6, v)\n",
    "# but then, is tougher to post the constraints later on\n"
   ]
  },
  {
   "cell_type": "markdown",
   "id": "1ff9ba05",
   "metadata": {},
   "source": [
    "## Making sense of the constraints (1/2)\n",
    "\n",
    "Prof. X wants to avoid that a student attending two dates will receive the same exam. We know that:\n",
    "> - John is in the list for date 1, 3, and 5\n",
    "> - Jerry is in the list for date 1 and 2\n",
    "> - Jake is in the list for date 2 and 4\n",
    "\n",
    "Due to John's strategy, we derive that exercises for dates 1,3, and 5, must be all different. This can be achieved by assing an all_different constraint:\n",
    "`AddAllDifferent(self, variables)`, where `variables` is a list of integer variables.  \n",
    "We will do the same for dates 1 and 2 (due to Jerry's strategy), and for dates 2 and 4 (due to Jake's strategy)."
   ]
  },
  {
   "cell_type": "code",
   "execution_count": 3,
   "id": "15760e2d",
   "metadata": {},
   "outputs": [
    {
     "data": {
      "text/plain": [
       "<ortools.sat.python.cp_model.Constraint at 0x7f971872dfd0>"
      ]
     },
     "execution_count": 3,
     "metadata": {},
     "output_type": "execute_result"
    }
   ],
   "source": [
    "model.AddAllDifferent([a1,b1,a3,b3,a5,b5])\n",
    "model.AddAllDifferent([a1,b1,a2,b2])\n",
    "model.AddAllDifferent([a2,b2,a4,b4])"
   ]
  },
  {
   "cell_type": "markdown",
   "id": "2f62ded1",
   "metadata": {},
   "source": [
    "## Making sense of the constraints (2/2)\n",
    "\n",
    "We are still missing a (group of) constraints... from the original text:\n",
    "> no exercise can appear in the same position twice\n",
    "\n",
    "We can add this constraint by simply specifying that A1..A6 should be all different...\n"
   ]
  },
  {
   "cell_type": "code",
   "execution_count": 4,
   "id": "fd204701",
   "metadata": {},
   "outputs": [
    {
     "data": {
      "text/plain": [
       "<ortools.sat.python.cp_model.Constraint at 0x7f971872d460>"
      ]
     },
     "execution_count": 4,
     "metadata": {},
     "output_type": "execute_result"
    }
   ],
   "source": [
    "model.AddAllDifferent([a1,a2,a3,a4,a5])\n",
    "model.AddAllDifferent([b1,b2,b3,b4,b5])"
   ]
  },
  {
   "cell_type": "markdown",
   "id": "24f00b79",
   "metadata": {},
   "source": [
    "## Computing a solution\n",
    "\n",
    "At this point, we can ask the solver to compute a solution for us. This is done through two steps:\n",
    "1. First, we instantiate a solver: `solver = cp_model.CpSolver()`\n",
    "2. We ask the solver to solve our model: `status = solver.Solve(model)`\n",
    "\n",
    "Then, we will observe the status: it will tell us if a solution was found or not. Possible values of status:\n",
    "- `cp_model.OPTIMAL`\n",
    "- `cp_model.FEASIBLE`\n",
    "- `cp_model.INFEASIBLE`\n",
    "- `cp_model.MODEL_INVALID`\n",
    "- `cp_model.UNKNOWN`\n",
    "\n",
    "If the status is `OPTIMAL` or `FEASIBLE`, we can ask for solutions and print them."
   ]
  },
  {
   "cell_type": "code",
   "execution_count": 5,
   "id": "a003fb2c",
   "metadata": {},
   "outputs": [
    {
     "name": "stdout",
     "output_type": "stream",
     "text": [
      "a1 = 1\n",
      "b1 = 2\n",
      "a2 = 4\n",
      "b2 = 3\n",
      "a3 = 6\n",
      "b3 = 5\n",
      "a4 = 2\n",
      "b4 = 1\n",
      "a5 = 3\n",
      "b5 = 4\n"
     ]
    }
   ],
   "source": [
    "solver = cp_model.CpSolver()\n",
    "\n",
    "status = solver.Solve(model)\n",
    "\n",
    "if status == cp_model.OPTIMAL or status == cp_model.FEASIBLE:\n",
    "    print('a1 = %i' % solver.Value(a1))\n",
    "    print('b1 = %i' % solver.Value(b1))\n",
    "    print('a2 = %i' % solver.Value(a2))\n",
    "    print('b2 = %i' % solver.Value(b2))\n",
    "    print('a3 = %i' % solver.Value(a3))\n",
    "    print('b3 = %i' % solver.Value(b3))\n",
    "    print('a4 = %i' % solver.Value(a4))\n",
    "    print('b4 = %i' % solver.Value(b4))\n",
    "    print('a5 = %i' % solver.Value(a5))\n",
    "    print('b5 = %i' % solver.Value(b5))\n",
    "else:\n",
    "    print('No solution found.')"
   ]
  },
  {
   "cell_type": "markdown",
   "id": "9692b556",
   "metadata": {},
   "source": [
    "## Printing and counting all solutions\n",
    "\n",
    "What if we want to print and count all solutions?\n",
    "\n",
    "Google provides a mechanism thorugh a callback function: for foudn solution, the callback function will be invoked.\n",
    "\n",
    "An example (provided by Google itself) is the following one:\n",
    "\n",
    "\n",
    "    class VarArraySolutionPrinter(cp_model.CpSolverSolutionCallback):\n",
    "        \"\"\"Print intermediate solutions.\"\"\"\n",
    "\n",
    "        def __init__(self, variables):\n",
    "            cp_model.CpSolverSolutionCallback.__init__(self)\n",
    "            self.__variables = variables\n",
    "            self.__solution_count = 0\n",
    "\n",
    "        def on_solution_callback(self):\n",
    "            self.__solution_count += 1\n",
    "            for v in self.__variables:\n",
    "                print('%s=%i' % (v, self.Value(v)), end=' ')\n",
    "            print()\n",
    "\n",
    "        def solution_count(self):\n",
    "            return self.__solution_count\n",
    "\n",
    "    solver = cp_model.CpSolver()\n",
    "    solution_printer = VarArraySolutionPrinter([x, y, z])\n",
    "\n",
    "    solver.parameters.enumerate_all_solutions = True\n",
    "\n",
    "    status = solver.Solve(model, solution_printer)\n"
   ]
  },
  {
   "cell_type": "code",
   "execution_count": 7,
   "id": "bb1b13eb",
   "metadata": {},
   "outputs": [
    {
     "name": "stdout",
     "output_type": "stream",
     "text": [
      "Solutions found: 11520\n"
     ]
    }
   ],
   "source": [
    "class VarArraySolutionPrinter(cp_model.CpSolverSolutionCallback):\n",
    "    \"\"\"Print intermediate solutions.\"\"\"\n",
    "\n",
    "    def __init__(self, variables):\n",
    "        cp_model.CpSolverSolutionCallback.__init__(self)\n",
    "        self.__variables = variables\n",
    "        self.__solution_count = 0\n",
    "\n",
    "    def on_solution_callback(self):\n",
    "        self.__solution_count += 1\n",
    "        # for v in self.__variables:\n",
    "            # print('%s=%i' % (v, self.Value(v)), end=' ')\n",
    "        # print()\n",
    "\n",
    "    def solution_count(self):\n",
    "        return self.__solution_count\n",
    "\n",
    "solver = cp_model.CpSolver()\n",
    "solution_printer = VarArraySolutionPrinter([a1, b1, a2, b2, a3, b3, a4, b4, a5, b5])\n",
    "\n",
    "solver.parameters.enumerate_all_solutions = True\n",
    "status = solver.Solve(model, solution_printer)\n",
    "print('Solutions found:', solution_printer.solution_count())"
   ]
  },
  {
   "cell_type": "code",
   "execution_count": null,
   "id": "d9084b58",
   "metadata": {},
   "outputs": [],
   "source": []
  }
 ],
 "metadata": {
  "kernelspec": {
   "display_name": "Python 3 (ipykernel)",
   "language": "python",
   "name": "python3"
  },
  "language_info": {
   "codemirror_mode": {
    "name": "ipython",
    "version": 3
   },
   "file_extension": ".py",
   "mimetype": "text/x-python",
   "name": "python",
   "nbconvert_exporter": "python",
   "pygments_lexer": "ipython3",
   "version": "3.9.7"
  }
 },
 "nbformat": 4,
 "nbformat_minor": 5
}
