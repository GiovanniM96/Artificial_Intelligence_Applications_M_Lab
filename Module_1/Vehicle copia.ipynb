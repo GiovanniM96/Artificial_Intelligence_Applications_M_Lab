{
 "cells": [
  {
   "cell_type": "markdown",
   "id": "a870dfd1",
   "metadata": {},
   "source": [
    "# Vehicles\n",
    "\n",
    "We want to define th efollowing object hierarchy:\n",
    "- Vehicle\n",
    "- Car\n",
    "- PetrolCar\n",
    "- ElectricCar"
   ]
  },
  {
   "cell_type": "markdown",
   "id": "c29cc311",
   "metadata": {},
   "source": [
    "## Part 1\n",
    "\n",
    "Define the class Vehicle. A vehicle is characterized by:\n",
    "- a plate (a string)\n",
    "- a max velocity\n",
    "- it has an engine whose status can be `on` or `off`\n",
    "\n",
    "A vehicle has the following methods:\n",
    "- `turnOn()`, that turns on the engine (the status of the engine switches from `off` to `on`)\n",
    "- `tunrOff()`, that turns off the engine (the status of the engine switches from `on` to `off`)\n",
    "- `__str__()`, that returns a nice representation of the vehicle, in terms of a string"
   ]
  },
  {
   "cell_type": "code",
   "execution_count": 3,
   "id": "a4ed7943",
   "metadata": {},
   "outputs": [
    {
     "name": "stdout",
     "output_type": "stream",
     "text": [
      "Vehicle: aa123bb, engine: False\n"
     ]
    }
   ],
   "source": [
    "# Try to do the exercise, and only later on have a look at the solution\n",
    "\n",
    "\n",
    "class Vehicle(object):\n",
    "    '''This class describe the idea of a vehicle'''\n",
    "    def __init__(self, plate, maxVelocity):\n",
    "        self.plate = plate\n",
    "        self.maxVelocity = maxVelocity\n",
    "        self.engineStatus = False # False means that the engine is off\n",
    "\n",
    "    def turnOn(self):\n",
    "        if self.engineStatus:\n",
    "            print('Hey! the engine was already on, you are breaking my vehicle!!!')\n",
    "        else:\n",
    "            self.engineStatus = True    \n",
    "    \n",
    "    def turnOff(self):\n",
    "        if not self.engineStatus:\n",
    "            print('Hey! the engine was already off!')\n",
    "        else:\n",
    "            self.engineStatus = False\n",
    "    \n",
    "    def __str__(self):\n",
    "        result = 'Vehicle: ' + self.plate + ', engine: ' + str(self.engineStatus)\n",
    "        return result\n",
    "\n",
    "# some test\n",
    "v1 = Vehicle('aa123bb', 100)\n",
    "print(v1)\n"
   ]
  },
  {
   "cell_type": "markdown",
   "id": "53990882",
   "metadata": {},
   "source": [
    "## Part 2\n",
    "\n",
    "Define the class Car. A car is a vehicle, that is characterized by having a specific number of wheels. If not specified, a car has usually 4 wheels."
   ]
  },
  {
   "cell_type": "code",
   "execution_count": 6,
   "id": "e7c37464",
   "metadata": {},
   "outputs": [
    {
     "name": "stdout",
     "output_type": "stream",
     "text": [
      "Vehicle: aa123bb, engine: True Wheels: 3\n"
     ]
    }
   ],
   "source": [
    "class Car(Vehicle):\n",
    "    def __init__(self, plate, maxVelocity, numberOfWheels = 4):\n",
    "        super().__init__(plate, maxVelocity)\n",
    "        self.numberOfWheels = numberOfWheels\n",
    "\n",
    "# Test\n",
    "c1 = Car('aa123bb', 150, 3)\n",
    "c1.turnOn()\n",
    "print(c1, 'Wheels:', c1.numberOfWheels)\n"
   ]
  },
  {
   "cell_type": "markdown",
   "id": "0b15e4af",
   "metadata": {},
   "source": [
    "## Part 3\n",
    "\n",
    "Define the class PetrolCar. A PetrolCar is a car: its main characteristics is that it uses petrol to run the engine. Hence, it has a fuel tank that contains some liters of fuel. Its attributes are:\n",
    "- the current amount of fuel in the fuel tank\n",
    "- the consumption of fuel for running 100 km: it is given in terms of `liters per 100 km`\n",
    "\n",
    "It has the following methods:\n",
    "- `computeAutonomy()`: it returns how man km can make the car with the current amount of fuel\n",
    "- `estimateFuel()`: given an amount of km to be run, the function computes how many liters you should add to the fuel tank:\n",
    "    - if there is enough fuel, the method will return `None`\n",
    "    - if the fuel is not enough, the method will return the needed additional fuel"
   ]
  },
  {
   "cell_type": "code",
   "execution_count": 16,
   "id": "0005160c",
   "metadata": {},
   "outputs": [
    {
     "name": "stdout",
     "output_type": "stream",
     "text": [
      "Current autonomy: 808.82 km\n",
      "If you need to run 1000km, you will need to add 13.0 liters of fuel\n"
     ]
    }
   ],
   "source": [
    "class PetrolCar(Car):\n",
    "    def __init__(self, plate, maxVelocity, fuel, consumption, numberOfWheels = 4):\n",
    "        super().__init__(plate, maxVelocity, numberOfWheels)\n",
    "        self.fuel = fuel\n",
    "        self.consumption = consumption\n",
    "    \n",
    "    def computeAutonomy(self):\n",
    "        return (self.fuel / self.consumption)*100\n",
    "    \n",
    "    def estimateFuel(self, kmTarget):\n",
    "        if kmTarget <= self.computeAutonomy():\n",
    "            return None\n",
    "        else:\n",
    "            kmMissing = kmTarget-self.computeAutonomy()\n",
    "            neededFuel = (kmMissing/100)*self.consumption\n",
    "            return neededFuel\n",
    "\n",
    "# test\n",
    "c1 = PetrolCar('aa123bb', 190, fuel=55.0, consumption=6.8)\n",
    "print('Current autonomy:', round(c1.computeAutonomy(), 2), 'km')\n",
    "print('If you need to run 1000km, you will need to add', round(c1.estimateFuel(1000),2), 'liters of fuel')"
   ]
  },
  {
   "cell_type": "markdown",
   "id": "fdf502f2",
   "metadata": {},
   "source": [
    "## Part 4\n",
    "\n",
    "Define the class ElectricCar. An electric car is car, characterized by:\n",
    "- the percentage of the battery charge\n",
    "- the consumption in terms of percentage of the battery, for 100 km\n",
    "\n",
    "It has the following method:\n",
    "- computeAutonomy(): it returns how man km can make the car with the current amount of battery charge\n",
    "- estimateCharge(): given an amount of km to be run, the function computes how much the battery should be charged:\n",
    "    - if there is enough charge, the method will return None\n",
    "    - if the charge is not enough, the method will return the needed additional charge\n"
   ]
  },
  {
   "cell_type": "code",
   "execution_count": 18,
   "id": "4ee323b3",
   "metadata": {},
   "outputs": [
    {
     "name": "stdout",
     "output_type": "stream",
     "text": [
      "Current autonomy: 359.26 km\n",
      "If you need to run 1000km, you will need to charge 173.0 %\n"
     ]
    }
   ],
   "source": [
    "class ElectricCar(Car):\n",
    "    def __init__(self, plate, maxVelocity, charge, consumption, numberOfWheels = 4):\n",
    "        super().__init__(plate, maxVelocity, numberOfWheels)\n",
    "        self.charge = charge\n",
    "        self.consumption = consumption\n",
    "    \n",
    "    def computeAutonomy(self):\n",
    "        return (self.charge / self.consumption)*100\n",
    "    \n",
    "    def estimateFuel(self, kmTarget):\n",
    "        if kmTarget <= self.computeAutonomy():\n",
    "            return None\n",
    "        else:\n",
    "            kmMissing = kmTarget-self.computeAutonomy()\n",
    "            neededCharge = (kmMissing/100)*self.consumption\n",
    "            return neededCharge\n",
    "\n",
    "# test\n",
    "c1 = ElectricCar('aa123bb', 190, charge=97.0, consumption=27)\n",
    "print('Current autonomy:', round(c1.computeAutonomy(), 2), 'km')\n",
    "print('If you need to run 1000km, you will need to charge', round(c1.estimateFuel(1000),0), '%')"
   ]
  },
  {
   "cell_type": "code",
   "execution_count": null,
   "id": "0c5c0cc4",
   "metadata": {},
   "outputs": [],
   "source": []
  }
 ],
 "metadata": {
  "kernelspec": {
   "display_name": "Python 3 (ipykernel)",
   "language": "python",
   "name": "python3"
  },
  "language_info": {
   "codemirror_mode": {
    "name": "ipython",
    "version": 3
   },
   "file_extension": ".py",
   "mimetype": "text/x-python",
   "name": "python",
   "nbconvert_exporter": "python",
   "pygments_lexer": "ipython3",
   "version": "3.9.7"
  }
 },
 "nbformat": 4,
 "nbformat_minor": 5
}
